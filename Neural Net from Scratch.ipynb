{
 "cells": [
  {
   "cell_type": "code",
   "execution_count": 26,
   "metadata": {
    "collapsed": false
   },
   "outputs": [
    {
     "name": "stdout",
     "output_type": "stream",
     "text": [
      "Initializing random synaptic weights\n",
      "[[-0.16595599]\n",
      " [ 0.44064899]\n",
      " [-0.99977125]]\n",
      "new synaptic weights after training:\n",
      "[[ 9.07435607]\n",
      " [-2.9736727 ]\n",
      " [-2.9719595 ]]\n",
      "predicting on [1,0,0]\n",
      "[ 0.99988545]\n"
     ]
    }
   ],
   "source": [
    "from numpy import exp, array, random, dot\n",
    "\n",
    "class NeuralNetwork():\n",
    "    def __init__(self):\n",
    "        # seed the random number generator, so it is non random across trials\n",
    "        random.seed(1)\n",
    "        \n",
    "        # assign weights \n",
    "        \n",
    "        self.synaptic_weights = 2*random.random((3, 1)) - 1\n",
    "    \n",
    "    def sigmoid(self, x):\n",
    "        return 1/(1+exp(-x))\n",
    "    \n",
    "    def d_sigmoid(self, x):\n",
    "        return x*(1-x)\n",
    "    \n",
    "    def train(self, training_inputs, training_outputs, n_iter):\n",
    "        for iter in xrange(n_iter):\n",
    "            output = self.predict(training_inputs)\n",
    "            \n",
    "            error = training_outputs - output \n",
    "            \n",
    "            adjustment = dot(training_inputs.T, error*self.d_sigmoid(output))\n",
    "            \n",
    "            self.synaptic_weights += adjustment\n",
    "    \n",
    "    def predict(self, inputs):\n",
    "        return self.sigmoid(dot(inputs, self.synaptic_weights))\n",
    "\n",
    "if __name__ == '__main__':\n",
    "    \n",
    "    # single neuron neural network\n",
    "    neural_net = NeuralNetwork()\n",
    "    \n",
    "    print 'Initializing random synaptic weights'\n",
    "    print neural_net.synaptic_weights\n",
    "    \n",
    "    \n",
    "    # training data; 4 examples, each with 3 input values and 1 output\n",
    "    \n",
    "    training_inputs = array([[0,0,1], [1,1,1], [1,0,1], [0,1,0]])\n",
    "    training_outputs = array([[0,1,1,0]]).T\n",
    "    \n",
    "    # train the network:\n",
    "    neural_net.train(training_inputs, training_outputs, 1000)\n",
    "    \n",
    "    print 'new synaptic weights after training:'\n",
    "    print neural_net.synaptic_weights\n",
    "    \n",
    "    print 'predicting on [1,0,0]'\n",
    "    print neural_net.predict([1,0,0])\n"
   ]
  },
  {
   "cell_type": "code",
   "execution_count": 23,
   "metadata": {
    "collapsed": false
   },
   "outputs": [
    {
     "data": {
      "text/plain": [
       "array([ 1.02661833])"
      ]
     },
     "execution_count": 23,
     "metadata": {},
     "output_type": "execute_result"
    }
   ],
   "source": []
  },
  {
   "cell_type": "code",
   "execution_count": null,
   "metadata": {
    "collapsed": true
   },
   "outputs": [],
   "source": []
  }
 ],
 "metadata": {
  "kernelspec": {
   "display_name": "Python 2",
   "language": "python",
   "name": "python2"
  },
  "language_info": {
   "codemirror_mode": {
    "name": "ipython",
    "version": 2
   },
   "file_extension": ".py",
   "mimetype": "text/x-python",
   "name": "python",
   "nbconvert_exporter": "python",
   "pygments_lexer": "ipython2",
   "version": "2.7.13"
  }
 },
 "nbformat": 4,
 "nbformat_minor": 2
}
